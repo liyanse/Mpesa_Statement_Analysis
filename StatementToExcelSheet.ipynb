{
 "cells": [
  {
   "cell_type": "code",
   "execution_count": 1,
   "id": "88b68559",
   "metadata": {},
   "outputs": [
    {
     "name": "stderr",
     "output_type": "stream",
     "text": [
      "Got stderr: Jan 10, 2023 2:48:20 PM org.apache.pdfbox.pdmodel.font.PDTrueTypeFont <init>\n",
      "WARNING: Using fallback font 'ArialMT' for 'DejaVuSans'\n",
      "\n",
      "Got stderr: Jan 10, 2023 2:48:24 PM org.apache.pdfbox.pdmodel.font.PDTrueTypeFont <init>\n",
      "WARNING: Using fallback font 'ArialMT' for 'DejaVuSans'\n",
      "\n"
     ]
    },
    {
     "name": "stdout",
     "output_type": "stream",
     "text": [
      "Empty DataFrame\n",
      "Columns: [Unnamed: 0, Unnamed: 1]\n",
      "Index: []\n"
     ]
    }
   ],
   "source": [
    "# Import the required Module\n",
    "import tabula\n",
    "# Read a PDF File\n",
    "df = tabula.read_pdf(\"2022 statement.pdf\", pages='all')[0]\n",
    "# convert PDF into CSV\n",
    "tabula.convert_into(\"2022 statement.pdf\", \"2022 statement.csv\", output_format=\"csv\", pages='all')\n",
    "print(df)"
   ]
  },
  {
   "cell_type": "code",
   "execution_count": null,
   "id": "bb531984",
   "metadata": {},
   "outputs": [],
   "source": []
  }
 ],
 "metadata": {
  "kernelspec": {
   "display_name": "Python 3 (ipykernel)",
   "language": "python",
   "name": "python3"
  },
  "language_info": {
   "codemirror_mode": {
    "name": "ipython",
    "version": 3
   },
   "file_extension": ".py",
   "mimetype": "text/x-python",
   "name": "python",
   "nbconvert_exporter": "python",
   "pygments_lexer": "ipython3",
   "version": "3.9.7"
  }
 },
 "nbformat": 4,
 "nbformat_minor": 5
}
